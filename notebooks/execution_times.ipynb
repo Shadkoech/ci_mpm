{
 "cells": [
  {
   "cell_type": "code",
   "execution_count": null,
   "metadata": {
    "vscode": {
     "languageId": "plaintext"
    }
   },
   "outputs": [],
   "source": [
    "import os\n",
    "import sys\n",
    "import numpy as np\n",
    "import pandas as pd\n",
    "import time\n",
    "from scipy.special import expit, sinh, cosh, tanh  # SciPy equivalents\n",
    "\n",
    "\n",
    "sys.path.insert(0, os.path.abspath('../acsefunctions'))\n",
    "\n",
    "\n",
    "# Define input values for testing\n",
    "x_values = np.linspace(-5, 5, 100)  # 100 values from -5 to 5\n",
    "truncation_levels = [2, 5, 10, 15, 20]  # Different truncation levels\n",
    "\n",
    "\n",
    "# Prepare a DataFrame to store execution times\n",
    "execution_times = pd.DataFrame(columns=[\"Function\", \"Truncation Level\", \"Custom Time\", \"SciPy Time\"])\n",
    "\n",
    "for level in truncation_levels:\n",
    "    # Time the custom exp function\n",
    "    custom_exp_times = []\n",
    "    scipy_exp_times = []\n",
    "    \n",
    "    for x in x_values:\n",
    "        custom_result, custom_time = time_function(exp, x, level)\n",
    "        scipy_result, scipy_time = time_function(np.exp, x)  # Using NumPy for comparison\n",
    "        \n",
    "        custom_exp_times.append(custom_time)\n",
    "        scipy_exp_times.append(scipy_time)\n",
    "\n",
    "    execution_times = execution_times.append({\n",
    "        \"Function\": \"exp\",\n",
    "        \"Truncation Level\": level,\n",
    "        \"Custom Time\": np.mean(custom_exp_times),\n",
    "        \"SciPy Time\": np.mean(scipy_exp_times)\n",
    "    }, ignore_index=True)\n",
    "\n",
    "\n",
    "# Prepare a DataFrame to store errors\n",
    "errors = pd.DataFrame(columns=[\"Function\", \"Truncation Level\", \"Max Error\"])\n",
    "\n",
    "for level in truncation_levels:\n",
    "    for x in x_values:\n",
    "        custom_result = exp(x, level)\n",
    "        scipy_result = np.exp(x)  # SciPy equivalent for exp\n",
    "        \n",
    "        error = abs(custom_result - scipy_result)\n",
    "        \n",
    "        errors = errors.append({\n",
    "            \"Function\": \"exp\",\n",
    "            \"Truncation Level\": level,\n",
    "            \"Max Error\": np.max(error)\n",
    "        }, ignore_index=True)\n",
    "\n",
    "# Repeat for sinh, cosh, and tanh\n",
    "\n",
    "\n",
    "# Summary DataFrame\n",
    "summary_df = pd.DataFrame({\n",
    "    \"Function\": execution_times['Function'],\n",
    "    \"Average Custom Time\": execution_times['Custom Time'],\n",
    "    \"Average SciPy Time\": execution_times['SciPy Time'],\n",
    "    \"Max Error\": errors.groupby('Function')['Max Error'].max()\n",
    "}).drop_duplicates()\n",
    "\n",
    "print(summary_df)\n",
    "\n",
    "\n",
    "def time_function(func, x, *args):\n",
    "    start_time = time.time()\n",
    "    result = func(x, *args)\n",
    "    end_time = time.time()\n",
    "    return result, end_time - start_time"
   ]
  },
  {
   "cell_type": "markdown",
   "metadata": {},
   "source": []
  },
  {
   "cell_type": "code",
   "execution_count": null,
   "metadata": {},
   "outputs": [],
   "source": []
  }
 ],
 "metadata": {
  "kernelspec": {
   "display_name": "Python 3 (ipykernel)",
   "language": "python",
   "name": "python3"
  },
  "language_info": {
   "codemirror_mode": {
    "name": "ipython",
    "version": 3
   },
   "file_extension": ".py",
   "mimetype": "text/x-python",
   "name": "python",
   "nbconvert_exporter": "python",
   "pygments_lexer": "ipython3",
   "version": "3.10.15"
  }
 },
 "nbformat": 4,
 "nbformat_minor": 4
}
