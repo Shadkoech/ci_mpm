{
 "cells": [
  {
   "cell_type": "markdown",
   "metadata": {},
   "source": [
    "from ..acsefunctions.acsefunctions import exp, sinh, cosh, tanh, factorial, gamma_function, bessel_j\n",
    "\n"
   ]
  },
  {
   "cell_type": "markdown",
   "metadata": {},
   "source": [
    "# Calculate exp(1)\n",
    "result = exp(1)\n",
    "print(result)  # Example output\n"
   ]
  },
  {
   "cell_type": "markdown",
   "metadata": {},
   "source": [
    "# Calculate sinh(0)\n",
    "result = sinh(0)\n",
    "print(result)  # Example output"
   ]
  },
  {
   "cell_type": "markdown",
   "metadata": {},
   "source": [
    "# Calculate cosh(1)\n",
    "result = cosh(1)\n",
    "print(result)  # Example output"
   ]
  },
  {
   "cell_type": "markdown",
   "metadata": {},
   "source": [
    "# Calculate tanh(0)\n",
    "result = tanh(0)\n",
    "print(result)  # Example output"
   ]
  },
  {
   "cell_type": "markdown",
   "metadata": {},
   "source": [
    "\n",
    "# Calculate Bessel function J_0(1)\n",
    "result = jv(0, 1)\n",
    "print(result)  # Example output"
   ]
  }
 ],
 "metadata": {
  "language_info": {
   "name": "python"
  }
 },
 "nbformat": 4,
 "nbformat_minor": 2
}
