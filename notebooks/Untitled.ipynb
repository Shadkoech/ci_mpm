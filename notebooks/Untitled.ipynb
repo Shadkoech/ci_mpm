{
 "cells": [
  {
   "cell_type": "code",
   "execution_count": 2,
   "id": "7144b454-d24a-4e76-a54e-aeeb5eca0126",
   "metadata": {},
   "outputs": [
    {
     "ename": "ModuleNotFoundError",
     "evalue": "No module named 'acsefunctions'",
     "output_type": "error",
     "traceback": [
      "\u001b[0;31m---------------------------------------------------------------------------\u001b[0m",
      "\u001b[0;31mModuleNotFoundError\u001b[0m                       Traceback (most recent call last)",
      "Cell \u001b[0;32mIn[2], line 5\u001b[0m\n\u001b[1;32m      1\u001b[0m \u001b[38;5;66;03m# Usage Examples for acsefunctions\u001b[39;00m\n\u001b[1;32m      2\u001b[0m \n\u001b[1;32m      3\u001b[0m \u001b[38;5;66;03m## Exponential Function: `exp`\u001b[39;00m\n\u001b[0;32m----> 5\u001b[0m \u001b[38;5;28;01mfrom\u001b[39;00m \u001b[38;5;21;01macsefunctions\u001b[39;00m \u001b[38;5;28;01mimport\u001b[39;00m exp\n\u001b[1;32m      7\u001b[0m \u001b[38;5;66;03m# Calculate exp(1)\u001b[39;00m\n\u001b[1;32m      8\u001b[0m result \u001b[38;5;241m=\u001b[39m exp(\u001b[38;5;241m1\u001b[39m)\n",
      "\u001b[0;31mModuleNotFoundError\u001b[0m: No module named 'acsefunctions'"
     ]
    }
   ],
   "source": [
    "# Usage Examples for acsefunctions\n",
    "\n",
    "## Exponential Function: `exp`\n",
    "\n",
    "from acsefunctions import exp\n",
    "\n",
    "# Calculate exp(1)\n",
    "result = exp(1)\n",
    "print(result)  # Example output\n"
   ]
  },
  {
   "cell_type": "code",
   "execution_count": 4,
   "id": "d9405ccd-fc16-4db3-bb8c-69bdb1d40c8b",
   "metadata": {},
   "outputs": [
    {
     "ename": "SyntaxError",
     "evalue": "invalid syntax (3520288732.py, line 1)",
     "output_type": "error",
     "traceback": [
      "\u001b[0;36m  Cell \u001b[0;32mIn[4], line 1\u001b[0;36m\u001b[0m\n\u001b[0;31m    from ../acsefunctions import sinh\u001b[0m\n\u001b[0m           ^\u001b[0m\n\u001b[0;31mSyntaxError\u001b[0m\u001b[0;31m:\u001b[0m invalid syntax\n"
     ]
    }
   ],
   "source": [
    "from ../acsefunctions import sinh\n",
    "\n",
    "# Calculate sinh(0)\n",
    "result = sinh(0)\n",
    "print(result)  # Example output\n"
   ]
  },
  {
   "cell_type": "code",
   "execution_count": 5,
   "id": "5263d7b7-28dc-40f5-a87d-a6595dd78536",
   "metadata": {},
   "outputs": [
    {
     "ename": "ImportError",
     "evalue": "attempted relative import with no known parent package",
     "output_type": "error",
     "traceback": [
      "\u001b[0;31m---------------------------------------------------------------------------\u001b[0m",
      "\u001b[0;31mImportError\u001b[0m                               Traceback (most recent call last)",
      "Cell \u001b[0;32mIn[5], line 1\u001b[0m\n\u001b[0;32m----> 1\u001b[0m \u001b[38;5;28;01mfrom\u001b[39;00m \u001b[38;5;21;01m.\u001b[39;00m\u001b[38;5;21;01m.\u001b[39;00m\u001b[38;5;21;01macsefunctions\u001b[39;00m \u001b[38;5;28;01mimport\u001b[39;00m sinh\n\u001b[1;32m      3\u001b[0m \u001b[38;5;66;03m# Calculate sinh(0)\u001b[39;00m\n\u001b[1;32m      4\u001b[0m result \u001b[38;5;241m=\u001b[39m sinh(\u001b[38;5;241m0\u001b[39m)\n",
      "\u001b[0;31mImportError\u001b[0m: attempted relative import with no known parent package"
     ]
    }
   ],
   "source": [
    "from ..acsefunctions import sinh\n",
    "\n",
    "# Calculate sinh(0)\n",
    "result = sinh(0)\n",
    "print(result)  # Example output\n"
   ]
  },
  {
   "cell_type": "code",
   "execution_count": 7,
   "id": "0bbb847a-3cfc-4ae3-97a8-1c6caa3f6d0f",
   "metadata": {},
   "outputs": [
    {
     "ename": "SyntaxError",
     "evalue": "invalid syntax (3520288732.py, line 1)",
     "output_type": "error",
     "traceback": [
      "\u001b[0;36m  Cell \u001b[0;32mIn[7], line 1\u001b[0;36m\u001b[0m\n\u001b[0;31m    from ../acsefunctions import sinh\u001b[0m\n\u001b[0m           ^\u001b[0m\n\u001b[0;31mSyntaxError\u001b[0m\u001b[0;31m:\u001b[0m invalid syntax\n"
     ]
    }
   ],
   "source": [
    "from ../acsefunctions import sinh\n",
    "\n",
    "# Calculate sinh(0)\n",
    "result = sinh(0)\n",
    "print(result)  # Example output\n"
   ]
  },
  {
   "cell_type": "code",
   "execution_count": null,
   "id": "ee075f48-b5fc-49c8-a24b-8547dec2af74",
   "metadata": {},
   "outputs": [],
   "source": []
  }
 ],
 "metadata": {
  "kernelspec": {
   "display_name": "Python 3 (ipykernel)",
   "language": "python",
   "name": "python3"
  },
  "language_info": {
   "codemirror_mode": {
    "name": "ipython",
    "version": 3
   },
   "file_extension": ".py",
   "mimetype": "text/x-python",
   "name": "python",
   "nbconvert_exporter": "python",
   "pygments_lexer": "ipython3",
   "version": "3.10.15"
  }
 },
 "nbformat": 4,
 "nbformat_minor": 5
}
